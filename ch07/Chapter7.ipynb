{
 "cells": [
  {
   "cell_type": "markdown",
   "id": "14d56a39-a737-43b2-8bc9-57de54176967",
   "metadata": {},
   "source": [
    "# Machine Learning with PyTorch and Scikit-Learn\n",
    "# -- Code Examples"
   ]
  },
  {
   "cell_type": "markdown",
   "id": "80d1ca79-daa6-4856-9686-9087de8ad5e9",
   "metadata": {},
   "source": [
    "## Package version checks"
   ]
  },
  {
   "cell_type": "markdown",
   "id": "39ad8d19-2568-42f3-8c1e-6932e997a407",
   "metadata": {},
   "source": [
    "Add folder to path in order to load from the check_packages.py script:"
   ]
  },
  {
   "cell_type": "code",
   "execution_count": null,
   "id": "346d9102-a1a6-47e3-a7c9-3781ef23c8f2",
   "metadata": {},
   "outputs": [],
   "source": [
    "import sys\n",
    "sys.path.insert(0, '..')"
   ]
  }
 ],
 "metadata": {
  "kernelspec": {
   "display_name": "Python 3 (ipykernel)",
   "language": "python",
   "name": "python3"
  },
  "language_info": {
   "codemirror_mode": {
    "name": "ipython",
    "version": 3
   },
   "file_extension": ".py",
   "mimetype": "text/x-python",
   "name": "python",
   "nbconvert_exporter": "python",
   "pygments_lexer": "ipython3",
   "version": "3.9.12"
  }
 },
 "nbformat": 4,
 "nbformat_minor": 5
}
